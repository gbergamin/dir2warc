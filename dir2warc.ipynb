{
  "nbformat": 4,
  "nbformat_minor": 0,
  "metadata": {
    "colab": {
      "name": "dir2warc.ipynb",
      "version": "0.3.2",
      "provenance": [],
      "toc_visible": true
    },
    "kernelspec": {
      "name": "python3",
      "display_name": "Python 3"
    }
  },
  "cells": [
    {
      "metadata": {
        "id": "snLA-AQw0BsQ",
        "colab_type": "text"
      },
      "cell_type": "markdown",
      "source": [
        "## Installare warcit e uuid"
      ]
    },
    {
      "metadata": {
        "id": "BNxT9w3NzJcg",
        "colab_type": "code",
        "colab": {}
      },
      "cell_type": "code",
      "source": [
        "#!pip install warcit\n",
        "!apt-get install uuid"
      ],
      "execution_count": 0,
      "outputs": []
    },
    {
      "metadata": {
        "id": "NLpZeoP60tyq",
        "colab_type": "text"
      },
      "cell_type": "markdown",
      "source": [
        "## Test warcit"
      ]
    },
    {
      "metadata": {
        "id": "UeuvRGFV0n7I",
        "colab_type": "code",
        "colab": {}
      },
      "cell_type": "code",
      "source": [
        "!warcit --help"
      ],
      "execution_count": 0,
      "outputs": []
    },
    {
      "metadata": {
        "id": "I46bFK8b0JDi",
        "colab_type": "text"
      },
      "cell_type": "markdown",
      "source": [
        "## Installare preparawarc.sh\n",
        "dare i permessi di esecuzione"
      ]
    },
    {
      "metadata": {
        "id": "UG_kVlXt0_E9",
        "colab_type": "code",
        "colab": {}
      },
      "cell_type": "code",
      "source": [
        "!wget https://raw.githubusercontent.com/gbergamin/dir2warc/master/preparawarc.sh\n",
        "!chmod +x preparawarc.sh  "
      ],
      "execution_count": 0,
      "outputs": []
    },
    {
      "metadata": {
        "id": "xOyMolaX1clV",
        "colab_type": "text"
      },
      "cell_type": "markdown",
      "source": [
        "## Preparare l'ambiente di test\n",
        "deve essere una sottocartella rispetto alla cartella corrente\n",
        "\n",
        "il codice che segue scarica da github il file di test peace_love_and_metadata.tar.gz che contiene 3 pdf nella sottocartella peace_love_and_metadata\n",
        "\n",
        "### si può naturalmente creare una sottocartella con altri file a piacere\n",
        "in questo caso non eseguire il codice che segue ma ad es. caricare con la funzione upload un altro tar.gz con le stesse caratteristiche"
      ]
    },
    {
      "metadata": {
        "id": "DDgPcgKg1ou6",
        "colab_type": "code",
        "colab": {}
      },
      "cell_type": "code",
      "source": [
        "!wget https://github.com/gbergamin/dir2warc/raw/master/peace_love_and_metadata.tar.gz\n",
        "!tar -xvf peace_love_and_metadata.tar.gz\n",
        "!ls -l ./peace_love_and_metadata/"
      ],
      "execution_count": 0,
      "outputs": []
    },
    {
      "metadata": {
        "id": "D3fLdIDd8FMe",
        "colab_type": "text"
      },
      "cell_type": "markdown",
      "source": [
        "## Creare WARC\n",
        "il parametro di _preparawarc.sh_ deve essere la cartella contenente i file"
      ]
    },
    {
      "metadata": {
        "id": "-1E-RqaX8N46",
        "colab_type": "code",
        "colab": {}
      },
      "cell_type": "code",
      "source": [
        "!./preparawarc.sh peace_love_and_metadata\n",
        "!ls -l ./peace_love_and_metadata/"
      ],
      "execution_count": 0,
      "outputs": []
    },
    {
      "metadata": {
        "id": "NH33A5nx-QUz",
        "colab_type": "text"
      },
      "cell_type": "markdown",
      "source": [
        "## Visualizzare il contenuto dei file indice"
      ]
    },
    {
      "metadata": {
        "id": "vM-Lka8M9ink",
        "colab_type": "code",
        "colab": {}
      },
      "cell_type": "code",
      "source": [
        "#Visualizza il contenuto file *index.html\n",
        "!cat ./peace_love_and_metadata/*index.html"
      ],
      "execution_count": 0,
      "outputs": []
    },
    {
      "metadata": {
        "id": "Nbx4Qhgg92lY",
        "colab_type": "code",
        "colab": {}
      },
      "cell_type": "code",
      "source": [
        "#Visualizza il contenuto del file *index.txt\n",
        "!cat ./peace_love_and_metadata/*index.txt"
      ],
      "execution_count": 0,
      "outputs": []
    }
  ]
}
